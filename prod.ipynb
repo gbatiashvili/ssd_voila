{
 "cells": [
  {
   "cell_type": "code",
   "execution_count": 31,
   "metadata": {},
   "outputs": [],
   "source": [
    "# !pip install voila\n",
    "# !jupyter serverextension enable voila --sys-prefix\n"
   ]
  },
  {
   "cell_type": "code",
   "execution_count": 221,
   "metadata": {},
   "outputs": [],
   "source": [
    "from fastai.vision.all import *\n",
    "from fastai.vision.widgets import *\n",
    "import pickle as pkl\n",
    "from sklearn.metrics import recall_score\n",
    "from sklearn.metrics import precision_score\n",
    "from sklearn.metrics import confusion_matrix\n",
    "from sklearn.metrics import f1_score\n",
    "from IPython.display import display, FileLink\n"
   ]
  },
  {
   "cell_type": "code",
   "execution_count": 222,
   "metadata": {},
   "outputs": [],
   "source": [
    "btn_upload = widgets.FileUpload()\n",
    "out = widgets.Output(layout={'border': '1px solid black'})\n",
    "lbl_widget = widgets.Label('Please upload your CSV for prediction')\n"
   ]
  },
  {
   "cell_type": "code",
   "execution_count": 223,
   "metadata": {},
   "outputs": [],
   "source": [
    "def on_click(change):\n",
    "    with open('genetic_v1.pickle', 'rb') as f:\n",
    "        model = pkl.load(f)   \n",
    "    with open(\"input.csv\", \"w+b\") as i:\n",
    "        i.write(btn_upload.data[0])\n",
    "    test_df = pd.read_csv(\"input.csv\",index_col=0).rename(columns={\"0.5*smart_12_raw - 0.99*smart_242_raw\": \"eng1\", \"-1.04*smart_192_raw + 0.67*smart_241_raw\": \"eng2\"})\n",
    "    X = test_df.drop(columns=['target'])\n",
    "    y_test = test_df['target']\n",
    "    y_pred = model.predict(X)\n",
    "    probas_pred = model.predict_proba(X)\n",
    "    result = pd.read_csv(\"input.csv\",index_col=0)\n",
    "    result['preds'] = y_pred\n",
    "    result.to_csv('output.csv')\n",
    "    with out:\n",
    "        out.clear_output()\n",
    "        print('\\n -----These are the scores of the model:----- \\n')\n",
    "        print(\"recall: \", recall_score(y_test, y_pred))\n",
    "        print(\"precision: \",precision_score(y_test, y_pred))\n",
    "        print(\"f1: \",f1_score(y_test,y_pred))\n",
    "        print(\"\\nconfusion matrix: \\n\",confusion_matrix(y_test,y_pred))\n",
    "        local_file = FileLink('./output.csv', result_html_prefix=\"Click here to download: \")\n",
    "        display(local_file)\n"
   ]
  },
  {
   "cell_type": "code",
   "execution_count": 224,
   "metadata": {},
   "outputs": [],
   "source": [
    "btn_upload.observe(on_click, names=['data'])"
   ]
  },
  {
   "cell_type": "code",
   "execution_count": 225,
   "metadata": {},
   "outputs": [
    {
     "data": {
      "application/vnd.jupyter.widget-view+json": {
       "model_id": "e9a7543cdfdd4b78bb84c57a6fa3350c",
       "version_major": 2,
       "version_minor": 0
      },
      "text/plain": [
       "VBox(children=(Label(value='Please upload your CSV for prediction'), FileUpload(value={}, description='Upload'…"
      ]
     },
     "metadata": {},
     "output_type": "display_data"
    }
   ],
   "source": [
    "display(VBox([lbl_widget,btn_upload,out]))"
   ]
  },
  {
   "cell_type": "code",
   "execution_count": null,
   "metadata": {},
   "outputs": [],
   "source": []
  },
  {
   "cell_type": "code",
   "execution_count": null,
   "metadata": {},
   "outputs": [],
   "source": []
  }
 ],
 "metadata": {
  "environment": {
   "name": "pytorch-gpu.1-4.m58",
   "type": "gcloud",
   "uri": "gcr.io/deeplearning-platform-release/pytorch-gpu.1-4:m58"
  },
  "kernelspec": {
   "display_name": "Python 3",
   "language": "python",
   "name": "python3"
  },
  "language_info": {
   "codemirror_mode": {
    "name": "ipython",
    "version": 3
   },
   "file_extension": ".py",
   "mimetype": "text/x-python",
   "name": "python",
   "nbconvert_exporter": "python",
   "pygments_lexer": "ipython3",
   "version": "3.7.6"
  }
 },
 "nbformat": 4,
 "nbformat_minor": 4
}
